{
 "cells": [
  {
   "cell_type": "code",
   "execution_count": 1,
   "id": "88011a13",
   "metadata": {},
   "outputs": [],
   "source": [
    "import numpy as np\n",
    "import pandas as pd"
   ]
  },
  {
   "cell_type": "markdown",
   "id": "286f4a69",
   "metadata": {},
   "source": [
    "# <center>DM Under Uncertainity</center>"
   ]
  },
  {
   "cell_type": "markdown",
   "id": "cfeb593a",
   "metadata": {},
   "source": [
    "## MaxiMax Criterion or Optimistic Criterion"
   ]
  },
  {
   "cell_type": "code",
   "execution_count": 2,
   "id": "28a9621e",
   "metadata": {},
   "outputs": [],
   "source": [
    "maximax_inputs = np.array([\n",
    "    [50000, 25000, -25000, -45000],\n",
    "    [70000, 30000, -40000, -80000],\n",
    "    [30000, 15000, -1000, -10000]\n",
    "])\n",
    "maximax_df = pd.DataFrame(data=maximax_inputs,\n",
    "                          index=['Expand', 'Construct', 'Subcunstruct'],\n",
    "                          columns=['High', 'Moderate','Low', 'NIL'])"
   ]
  },
  {
   "cell_type": "code",
   "execution_count": 3,
   "id": "456a2a06",
   "metadata": {},
   "outputs": [
    {
     "data": {
      "text/html": [
       "<div>\n",
       "<style scoped>\n",
       "    .dataframe tbody tr th:only-of-type {\n",
       "        vertical-align: middle;\n",
       "    }\n",
       "\n",
       "    .dataframe tbody tr th {\n",
       "        vertical-align: top;\n",
       "    }\n",
       "\n",
       "    .dataframe thead th {\n",
       "        text-align: right;\n",
       "    }\n",
       "</style>\n",
       "<table border=\"1\" class=\"dataframe\">\n",
       "  <thead>\n",
       "    <tr style=\"text-align: right;\">\n",
       "      <th></th>\n",
       "      <th>High</th>\n",
       "      <th>Moderate</th>\n",
       "      <th>Low</th>\n",
       "      <th>NIL</th>\n",
       "    </tr>\n",
       "  </thead>\n",
       "  <tbody>\n",
       "    <tr>\n",
       "      <th>Expand</th>\n",
       "      <td>50000</td>\n",
       "      <td>25000</td>\n",
       "      <td>-25000</td>\n",
       "      <td>-45000</td>\n",
       "    </tr>\n",
       "    <tr>\n",
       "      <th>Construct</th>\n",
       "      <td>70000</td>\n",
       "      <td>30000</td>\n",
       "      <td>-40000</td>\n",
       "      <td>-80000</td>\n",
       "    </tr>\n",
       "    <tr>\n",
       "      <th>Subcunstruct</th>\n",
       "      <td>30000</td>\n",
       "      <td>15000</td>\n",
       "      <td>-1000</td>\n",
       "      <td>-10000</td>\n",
       "    </tr>\n",
       "  </tbody>\n",
       "</table>\n",
       "</div>"
      ],
      "text/plain": [
       "               High  Moderate    Low    NIL\n",
       "Expand        50000     25000 -25000 -45000\n",
       "Construct     70000     30000 -40000 -80000\n",
       "Subcunstruct  30000     15000  -1000 -10000"
      ]
     },
     "execution_count": 3,
     "metadata": {},
     "output_type": "execute_result"
    }
   ],
   "source": [
    "maximax_df"
   ]
  },
  {
   "cell_type": "code",
   "execution_count": 4,
   "id": "89e98ab2",
   "metadata": {},
   "outputs": [],
   "source": [
    "def maximax_method(inputs):\n",
    "    print('############### MaxiMax Method ###############\\n')\n",
    "    print(inputs)\n",
    "    print('\\n############# Max of rows #############\\n')\n",
    "    print(inputs.max(axis=1))\n",
    "    print(f'\\n\\nOur best alternative in maximax method is {inputs.max(axis=1).idxmax()}')"
   ]
  },
  {
   "cell_type": "code",
   "execution_count": 5,
   "id": "c97baa7d",
   "metadata": {},
   "outputs": [
    {
     "name": "stdout",
     "output_type": "stream",
     "text": [
      "############### MaxiMax Method ###############\n",
      "\n",
      "               High  Moderate    Low    NIL\n",
      "Expand        50000     25000 -25000 -45000\n",
      "Construct     70000     30000 -40000 -80000\n",
      "Subcunstruct  30000     15000  -1000 -10000\n",
      "\n",
      "############# Max of rows #############\n",
      "\n",
      "Expand          50000\n",
      "Construct       70000\n",
      "Subcunstruct    30000\n",
      "dtype: int32\n",
      "\n",
      "\n",
      "Our best alternative in maximax method is Construct\n"
     ]
    }
   ],
   "source": [
    "maximax_method(maximax_df)"
   ]
  },
  {
   "cell_type": "markdown",
   "id": "4186aa95",
   "metadata": {},
   "source": [
    "## MaxiMin method or Pessimistic Criterion"
   ]
  },
  {
   "cell_type": "code",
   "execution_count": 6,
   "id": "6b401194",
   "metadata": {},
   "outputs": [],
   "source": [
    "maximin_inputs = np.array([\n",
    "    [50000, 25000, -25000, -45000],\n",
    "    [70000, 30000, -40000, -80000],\n",
    "    [30000, 15000, -1000, -10000]\n",
    "])\n",
    "maximin_df = pd.DataFrame(data=maximin_inputs,\n",
    "                          index=['Expand', 'Construct', 'Subcunstruct'],\n",
    "                          columns=['High', 'Moderate','Low', 'NIL'])"
   ]
  },
  {
   "cell_type": "code",
   "execution_count": 7,
   "id": "7a256407",
   "metadata": {},
   "outputs": [
    {
     "data": {
      "text/html": [
       "<div>\n",
       "<style scoped>\n",
       "    .dataframe tbody tr th:only-of-type {\n",
       "        vertical-align: middle;\n",
       "    }\n",
       "\n",
       "    .dataframe tbody tr th {\n",
       "        vertical-align: top;\n",
       "    }\n",
       "\n",
       "    .dataframe thead th {\n",
       "        text-align: right;\n",
       "    }\n",
       "</style>\n",
       "<table border=\"1\" class=\"dataframe\">\n",
       "  <thead>\n",
       "    <tr style=\"text-align: right;\">\n",
       "      <th></th>\n",
       "      <th>High</th>\n",
       "      <th>Moderate</th>\n",
       "      <th>Low</th>\n",
       "      <th>NIL</th>\n",
       "    </tr>\n",
       "  </thead>\n",
       "  <tbody>\n",
       "    <tr>\n",
       "      <th>Expand</th>\n",
       "      <td>50000</td>\n",
       "      <td>25000</td>\n",
       "      <td>-25000</td>\n",
       "      <td>-45000</td>\n",
       "    </tr>\n",
       "    <tr>\n",
       "      <th>Construct</th>\n",
       "      <td>70000</td>\n",
       "      <td>30000</td>\n",
       "      <td>-40000</td>\n",
       "      <td>-80000</td>\n",
       "    </tr>\n",
       "    <tr>\n",
       "      <th>Subcunstruct</th>\n",
       "      <td>30000</td>\n",
       "      <td>15000</td>\n",
       "      <td>-1000</td>\n",
       "      <td>-10000</td>\n",
       "    </tr>\n",
       "  </tbody>\n",
       "</table>\n",
       "</div>"
      ],
      "text/plain": [
       "               High  Moderate    Low    NIL\n",
       "Expand        50000     25000 -25000 -45000\n",
       "Construct     70000     30000 -40000 -80000\n",
       "Subcunstruct  30000     15000  -1000 -10000"
      ]
     },
     "execution_count": 7,
     "metadata": {},
     "output_type": "execute_result"
    }
   ],
   "source": [
    "maximin_df"
   ]
  },
  {
   "cell_type": "code",
   "execution_count": 8,
   "id": "bc86e96d",
   "metadata": {},
   "outputs": [],
   "source": [
    "def maximin_method(inputs):\n",
    "    print('############### Maximin Method ###############\\n')\n",
    "    print(inputs)\n",
    "    print('\\n############# Min of rows #############\\n')\n",
    "    print(inputs.min(axis=1))\n",
    "    print(f'\\n\\nOur best alternative in maximin method is {inputs.min(axis=1).idxmax()}')"
   ]
  },
  {
   "cell_type": "code",
   "execution_count": 9,
   "id": "eb6cb969",
   "metadata": {},
   "outputs": [
    {
     "name": "stdout",
     "output_type": "stream",
     "text": [
      "############### Maximin Method ###############\n",
      "\n",
      "               High  Moderate    Low    NIL\n",
      "Expand        50000     25000 -25000 -45000\n",
      "Construct     70000     30000 -40000 -80000\n",
      "Subcunstruct  30000     15000  -1000 -10000\n",
      "\n",
      "############# Min of rows #############\n",
      "\n",
      "Expand         -45000\n",
      "Construct      -80000\n",
      "Subcunstruct   -10000\n",
      "dtype: int32\n",
      "\n",
      "\n",
      "Our best alternative in maximin method is Subcunstruct\n"
     ]
    }
   ],
   "source": [
    "maximin_method(maximin_df)"
   ]
  },
  {
   "cell_type": "markdown",
   "id": "b8daa221",
   "metadata": {},
   "source": [
    "## MiniMax Method or Regret (Savage Criterion)"
   ]
  },
  {
   "cell_type": "code",
   "execution_count": 10,
   "id": "5374e51c",
   "metadata": {},
   "outputs": [],
   "source": [
    "minimax_inputs = np.array([\n",
    "    [50000, 25000, -25000, -45000],\n",
    "    [70000, 30000, -40000, -80000],\n",
    "    [30000, 15000, -1000, -10000]\n",
    "])\n",
    "minimax_df = pd.DataFrame(data=minimax_inputs,\n",
    "                          index=['Expand', 'Construct', 'Subcunstruct'],\n",
    "                          columns=['High', 'Moderate','Low', 'NIL'])"
   ]
  },
  {
   "cell_type": "code",
   "execution_count": 11,
   "id": "43909d5b",
   "metadata": {},
   "outputs": [
    {
     "data": {
      "text/html": [
       "<div>\n",
       "<style scoped>\n",
       "    .dataframe tbody tr th:only-of-type {\n",
       "        vertical-align: middle;\n",
       "    }\n",
       "\n",
       "    .dataframe tbody tr th {\n",
       "        vertical-align: top;\n",
       "    }\n",
       "\n",
       "    .dataframe thead th {\n",
       "        text-align: right;\n",
       "    }\n",
       "</style>\n",
       "<table border=\"1\" class=\"dataframe\">\n",
       "  <thead>\n",
       "    <tr style=\"text-align: right;\">\n",
       "      <th></th>\n",
       "      <th>High</th>\n",
       "      <th>Moderate</th>\n",
       "      <th>Low</th>\n",
       "      <th>NIL</th>\n",
       "    </tr>\n",
       "  </thead>\n",
       "  <tbody>\n",
       "    <tr>\n",
       "      <th>Expand</th>\n",
       "      <td>50000</td>\n",
       "      <td>25000</td>\n",
       "      <td>-25000</td>\n",
       "      <td>-45000</td>\n",
       "    </tr>\n",
       "    <tr>\n",
       "      <th>Construct</th>\n",
       "      <td>70000</td>\n",
       "      <td>30000</td>\n",
       "      <td>-40000</td>\n",
       "      <td>-80000</td>\n",
       "    </tr>\n",
       "    <tr>\n",
       "      <th>Subcunstruct</th>\n",
       "      <td>30000</td>\n",
       "      <td>15000</td>\n",
       "      <td>-1000</td>\n",
       "      <td>-10000</td>\n",
       "    </tr>\n",
       "  </tbody>\n",
       "</table>\n",
       "</div>"
      ],
      "text/plain": [
       "               High  Moderate    Low    NIL\n",
       "Expand        50000     25000 -25000 -45000\n",
       "Construct     70000     30000 -40000 -80000\n",
       "Subcunstruct  30000     15000  -1000 -10000"
      ]
     },
     "execution_count": 11,
     "metadata": {},
     "output_type": "execute_result"
    }
   ],
   "source": [
    "minimax_df"
   ]
  },
  {
   "cell_type": "code",
   "execution_count": 26,
   "id": "fc7923ff",
   "metadata": {},
   "outputs": [],
   "source": [
    "def minimax_method(inputs):\n",
    "    print('############### MiniMax Method for Seller ###############\\n')\n",
    "    print(inputs)\n",
    "    print('\\n############### Calculation of regret for seller ###############\\n')\n",
    "    regret = minimax_df.max() - minimax_df\n",
    "    print(regret)\n",
    "    print('\\n############### Max of rows of seller ###############\\n')\n",
    "    print(regret.max(axis=1))\n",
    "    print('\\n############### Best Alternative for seller ###############\\n')\n",
    "    print(f'Our best alternative is {regret.max(axis=1).idxmin()}\\n')\n",
    "    print('############### MiniMax Method for Buyyer ###############\\n')\n",
    "    print(inputs)\n",
    "    print('\\n############### Calculation of regret for Buyyer ###############\\n')\n",
    "    regret =  minimax_df - minimax_df.min()\n",
    "    print(regret)\n",
    "    print('\\n############### Max of rows of Buyyer ###############\\n')\n",
    "    print(regret.min(axis=1))\n",
    "    print('\\n############### Best Alternative for Buyyer ###############\\n')\n",
    "    print(f'Our best alternative is {regret.min(axis=1).idxmax()}')"
   ]
  },
  {
   "cell_type": "code",
   "execution_count": 27,
   "id": "d66dfcc1",
   "metadata": {
    "scrolled": true
   },
   "outputs": [
    {
     "name": "stdout",
     "output_type": "stream",
     "text": [
      "############### MiniMax Method for Seller ###############\n",
      "\n",
      "               High  Moderate    Low    NIL\n",
      "Expand        50000     25000 -25000 -45000\n",
      "Construct     70000     30000 -40000 -80000\n",
      "Subcunstruct  30000     15000  -1000 -10000\n",
      "\n",
      "############### Calculation of regret for seller ###############\n",
      "\n",
      "               High  Moderate    Low    NIL\n",
      "Expand        20000      5000  24000  35000\n",
      "Construct         0         0  39000  70000\n",
      "Subcunstruct  40000     15000      0      0\n",
      "\n",
      "############### Max of rows of seller ###############\n",
      "\n",
      "Expand          35000\n",
      "Construct       70000\n",
      "Subcunstruct    40000\n",
      "dtype: int32\n",
      "\n",
      "############### Best Alternative for seller ###############\n",
      "\n",
      "Our best alternative is Expand\n",
      "\n",
      "############### MiniMax Method for Buyyer ###############\n",
      "\n",
      "               High  Moderate    Low    NIL\n",
      "Expand        50000     25000 -25000 -45000\n",
      "Construct     70000     30000 -40000 -80000\n",
      "Subcunstruct  30000     15000  -1000 -10000\n",
      "\n",
      "############### Calculation of regret for Buyyer ###############\n",
      "\n",
      "               High  Moderate    Low    NIL\n",
      "Expand        20000     10000  15000  35000\n",
      "Construct     40000     15000      0      0\n",
      "Subcunstruct      0         0  39000  70000\n",
      "\n",
      "############### Max of rows of Buyyer ###############\n",
      "\n",
      "Expand          10000\n",
      "Construct           0\n",
      "Subcunstruct        0\n",
      "dtype: int32\n",
      "\n",
      "############### Best Alternative for Buyyer ###############\n",
      "\n",
      "Our best alternative is Expand\n"
     ]
    }
   ],
   "source": [
    "minimax_method(minimax_df)"
   ]
  },
  {
   "cell_type": "markdown",
   "id": "f40c4adb",
   "metadata": {},
   "source": [
    "## Hurwicz Criterion or Criteron of Realism"
   ]
  },
  {
   "cell_type": "code",
   "execution_count": 14,
   "id": "96ff2927",
   "metadata": {},
   "outputs": [],
   "source": [
    "hurwicz_inputs = np.array([\n",
    "    [50000, 25000, -25000, -45000],\n",
    "    [70000, 30000, -40000, -80000],\n",
    "    [30000, 15000, -1000, -10000]\n",
    "])\n",
    "hurwicz_df = pd.DataFrame(data=hurwicz_inputs,\n",
    "                          index=['Expand', 'Construct', 'Subcunstruct'],\n",
    "                          columns=['High', 'Moderate','Low', 'NIL'])\n",
    "alpha = 0.8"
   ]
  },
  {
   "cell_type": "code",
   "execution_count": 15,
   "id": "fc7338bb",
   "metadata": {},
   "outputs": [
    {
     "data": {
      "text/html": [
       "<div>\n",
       "<style scoped>\n",
       "    .dataframe tbody tr th:only-of-type {\n",
       "        vertical-align: middle;\n",
       "    }\n",
       "\n",
       "    .dataframe tbody tr th {\n",
       "        vertical-align: top;\n",
       "    }\n",
       "\n",
       "    .dataframe thead th {\n",
       "        text-align: right;\n",
       "    }\n",
       "</style>\n",
       "<table border=\"1\" class=\"dataframe\">\n",
       "  <thead>\n",
       "    <tr style=\"text-align: right;\">\n",
       "      <th></th>\n",
       "      <th>High</th>\n",
       "      <th>Moderate</th>\n",
       "      <th>Low</th>\n",
       "      <th>NIL</th>\n",
       "    </tr>\n",
       "  </thead>\n",
       "  <tbody>\n",
       "    <tr>\n",
       "      <th>Expand</th>\n",
       "      <td>50000</td>\n",
       "      <td>25000</td>\n",
       "      <td>-25000</td>\n",
       "      <td>-45000</td>\n",
       "    </tr>\n",
       "    <tr>\n",
       "      <th>Construct</th>\n",
       "      <td>70000</td>\n",
       "      <td>30000</td>\n",
       "      <td>-40000</td>\n",
       "      <td>-80000</td>\n",
       "    </tr>\n",
       "    <tr>\n",
       "      <th>Subcunstruct</th>\n",
       "      <td>30000</td>\n",
       "      <td>15000</td>\n",
       "      <td>-1000</td>\n",
       "      <td>-10000</td>\n",
       "    </tr>\n",
       "  </tbody>\n",
       "</table>\n",
       "</div>"
      ],
      "text/plain": [
       "               High  Moderate    Low    NIL\n",
       "Expand        50000     25000 -25000 -45000\n",
       "Construct     70000     30000 -40000 -80000\n",
       "Subcunstruct  30000     15000  -1000 -10000"
      ]
     },
     "execution_count": 15,
     "metadata": {},
     "output_type": "execute_result"
    }
   ],
   "source": [
    "hurwicz_df"
   ]
  },
  {
   "cell_type": "code",
   "execution_count": 16,
   "id": "2d2ee876",
   "metadata": {},
   "outputs": [],
   "source": [
    "def hurwicz_criterion(inputs, alpha):\n",
    "    print('############### Hurwicz Criterion ###############\\n')\n",
    "    print(inputs)\n",
    "    alpha_betha = np.array([alpha, 1 - alpha])\n",
    "    inputs_row_max = inputs.max(axis=1)\n",
    "    inputs_row_min = inputs.min(axis=1)\n",
    "    datas = {\n",
    "        'max': inputs_row_max,\n",
    "        'min': inputs_row_min\n",
    "    }\n",
    "    print('\\n############### Hurwicz Criterion Max Min ###############\\n')\n",
    "    max_min_df_hurwicz = pd.DataFrame(data=datas, index=inputs.index)\n",
    "    print(max_min_df_hurwicz)\n",
    "    print('\\n############### Hurwicz Criterion H\\'s ###############\\n')\n",
    "    print('We multiply Max by alpha and min by (1 - alpha) then we sum them\\n')\n",
    "    h = max_min_df_hurwicz @ alpha_betha\n",
    "    print(h)\n",
    "    print('\\n############### Best Alternative ###############\\n')\n",
    "    print(f'Our best alternative is {h.idxmax()}')"
   ]
  },
  {
   "cell_type": "code",
   "execution_count": 17,
   "id": "5ea4996e",
   "metadata": {},
   "outputs": [
    {
     "name": "stdout",
     "output_type": "stream",
     "text": [
      "############### Hurwicz Criterion ###############\n",
      "\n",
      "               High  Moderate    Low    NIL\n",
      "Expand        50000     25000 -25000 -45000\n",
      "Construct     70000     30000 -40000 -80000\n",
      "Subcunstruct  30000     15000  -1000 -10000\n",
      "\n",
      "############### Hurwicz Criterion Max Min ###############\n",
      "\n",
      "                max    min\n",
      "Expand        50000 -45000\n",
      "Construct     70000 -80000\n",
      "Subcunstruct  30000 -10000\n",
      "\n",
      "############### Hurwicz Criterion H's ###############\n",
      "\n",
      "We multiply Max by alpha and min by (1 - alpha) then we sum them\n",
      "\n",
      "Expand          31000.0\n",
      "Construct       40000.0\n",
      "Subcunstruct    22000.0\n",
      "dtype: float64\n",
      "\n",
      "############### Best Alternative ###############\n",
      "\n",
      "Our best alternative is Construct\n"
     ]
    }
   ],
   "source": [
    "hurwicz_criterion(hurwicz_df, alpha)"
   ]
  },
  {
   "cell_type": "markdown",
   "id": "8bc6c806",
   "metadata": {},
   "source": [
    "## LAPLACE Criterion or Equal Probability"
   ]
  },
  {
   "cell_type": "code",
   "execution_count": 18,
   "id": "e3069136",
   "metadata": {},
   "outputs": [],
   "source": [
    "laplace_inputs = np.array([\n",
    "    [4000, -100, 6000, 18000],\n",
    "    [20000, 5000, 400, 0],\n",
    "    [20000, 15000, -2000, 1000]\n",
    "])\n",
    "laplace_df = pd.DataFrame(data=laplace_inputs,\n",
    "                          index=['S1', 'S2', 'S3'],\n",
    "                          columns=['N1', 'N2','N3', 'N4'])"
   ]
  },
  {
   "cell_type": "code",
   "execution_count": 19,
   "id": "8f8e72eb",
   "metadata": {},
   "outputs": [
    {
     "data": {
      "text/html": [
       "<div>\n",
       "<style scoped>\n",
       "    .dataframe tbody tr th:only-of-type {\n",
       "        vertical-align: middle;\n",
       "    }\n",
       "\n",
       "    .dataframe tbody tr th {\n",
       "        vertical-align: top;\n",
       "    }\n",
       "\n",
       "    .dataframe thead th {\n",
       "        text-align: right;\n",
       "    }\n",
       "</style>\n",
       "<table border=\"1\" class=\"dataframe\">\n",
       "  <thead>\n",
       "    <tr style=\"text-align: right;\">\n",
       "      <th></th>\n",
       "      <th>N1</th>\n",
       "      <th>N2</th>\n",
       "      <th>N3</th>\n",
       "      <th>N4</th>\n",
       "    </tr>\n",
       "  </thead>\n",
       "  <tbody>\n",
       "    <tr>\n",
       "      <th>S1</th>\n",
       "      <td>4000</td>\n",
       "      <td>-100</td>\n",
       "      <td>6000</td>\n",
       "      <td>18000</td>\n",
       "    </tr>\n",
       "    <tr>\n",
       "      <th>S2</th>\n",
       "      <td>20000</td>\n",
       "      <td>5000</td>\n",
       "      <td>400</td>\n",
       "      <td>0</td>\n",
       "    </tr>\n",
       "    <tr>\n",
       "      <th>S3</th>\n",
       "      <td>20000</td>\n",
       "      <td>15000</td>\n",
       "      <td>-2000</td>\n",
       "      <td>1000</td>\n",
       "    </tr>\n",
       "  </tbody>\n",
       "</table>\n",
       "</div>"
      ],
      "text/plain": [
       "       N1     N2    N3     N4\n",
       "S1   4000   -100  6000  18000\n",
       "S2  20000   5000   400      0\n",
       "S3  20000  15000 -2000   1000"
      ]
     },
     "execution_count": 19,
     "metadata": {},
     "output_type": "execute_result"
    }
   ],
   "source": [
    "laplace_df"
   ]
  },
  {
   "cell_type": "code",
   "execution_count": 20,
   "id": "2d159919",
   "metadata": {},
   "outputs": [],
   "source": [
    "def laplace_criterion(inputs):\n",
    "    print('############### LAPLACE Criterion ###############\\n')\n",
    "    print(inputs)\n",
    "    laplace_row_sum = inputs.sum(axis=1)\n",
    "    print('\\n############### Rows Sum ###############\\n')\n",
    "    print(laplace_row_sum)\n",
    "    print('\\n############### Row Sums divided by Column Size ###############\\n')\n",
    "    laplace_row_sun_divice_by_columns_size = laplace_row_sum / inputs.shape[1]\n",
    "    print(round(laplace_row_sun_divice_by_columns_size, 3))\n",
    "    print('\\n############### Best Alternative ###############\\n')\n",
    "    print(f'Our best alternative is {laplace_row_sun_divice_by_columns_size.idxmax()}')"
   ]
  },
  {
   "cell_type": "code",
   "execution_count": 21,
   "id": "3e4fae7b",
   "metadata": {},
   "outputs": [
    {
     "name": "stdout",
     "output_type": "stream",
     "text": [
      "############### LAPLACE Criterion ###############\n",
      "\n",
      "       N1     N2    N3     N4\n",
      "S1   4000   -100  6000  18000\n",
      "S2  20000   5000   400      0\n",
      "S3  20000  15000 -2000   1000\n",
      "\n",
      "############### Rows Sum ###############\n",
      "\n",
      "S1    27900\n",
      "S2    25400\n",
      "S3    34000\n",
      "dtype: int64\n",
      "\n",
      "############### Row Sums divided by Column Size ###############\n",
      "\n",
      "S1    6975.0\n",
      "S2    6350.0\n",
      "S3    8500.0\n",
      "dtype: float64\n",
      "\n",
      "############### Best Alternative ###############\n",
      "\n",
      "Our best alternative is S3\n"
     ]
    }
   ],
   "source": [
    "laplace_criterion(laplace_df)"
   ]
  }
 ],
 "metadata": {
  "kernelspec": {
   "display_name": "Python 3 (ipykernel)",
   "language": "python",
   "name": "python3"
  },
  "language_info": {
   "codemirror_mode": {
    "name": "ipython",
    "version": 3
   },
   "file_extension": ".py",
   "mimetype": "text/x-python",
   "name": "python",
   "nbconvert_exporter": "python",
   "pygments_lexer": "ipython3",
   "version": "3.9.12"
  }
 },
 "nbformat": 4,
 "nbformat_minor": 5
}
