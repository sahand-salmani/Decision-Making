{
 "cells": [
  {
   "cell_type": "code",
   "execution_count": 3,
   "id": "a67230e8",
   "metadata": {},
   "outputs": [],
   "source": [
    "import numpy as np\n",
    "from matplotlib import pyplot as plt"
   ]
  },
  {
   "cell_type": "code",
   "execution_count": 4,
   "id": "29351d15",
   "metadata": {},
   "outputs": [],
   "source": [
    "inps = np.array([\n",
    "    [0,4,5,20],\n",
    "    [0,4,8,32],\n",
    "    [0,8,12,24],\n",
    "    [-6,-2,4,8]\n",
    "])\n",
    "prob = np.array([1/2, 1/4, 1/5, 1/20])"
   ]
  },
  {
   "cell_type": "code",
   "execution_count": 15,
   "id": "cab52edb",
   "metadata": {},
   "outputs": [],
   "source": [
    "def construction_of_pareto_set(inps, probs):\n",
    "    print('\\n######## Cunstruction of pareto set ##########\\n')\n",
    "    print(inps)\n",
    "    \n",
    "    print(f'\\n{probs}\\n')\n",
    "    print('\\n######## MQS ##########\\n')\n",
    "    mqs = inps @ prob\n",
    "    print(mqs)\n",
    "    print('\\n######## Squared Inputs ##########\\n')\n",
    "    squared_inps = np.power(inps, 2)\n",
    "    print(squared_inps)\n",
    "    print('\\n######## DQS ##########\\n')\n",
    "    dqs = squared_inps @ prob\n",
    "    print(dqs)\n",
    "    print('\\n######## DQS - Squared MQS ##########\\n')\n",
    "    res = dqs - np.power(mqs, 2)\n",
    "    print(res)\n",
    "    print('\\n##################\\n')\n",
    "    bs = np.round(np.sqrt(res), 3)\n",
    "    print(bs)\n",
    "    print('\\n##################\\n')\n",
    "    plt.figure(figsize=(8,4))\n",
    "    plt.scatter(x=mqs, y=bs, color='red')\n",
    "    "
   ]
  },
  {
   "cell_type": "code",
   "execution_count": 16,
   "id": "de1ac64d",
   "metadata": {},
   "outputs": [
    {
     "name": "stdout",
     "output_type": "stream",
     "text": [
      "\n",
      "######## Cunstruction of pareto set ##########\n",
      "\n",
      "[[ 0  4  5 20]\n",
      " [ 0  4  8 32]\n",
      " [ 0  8 12 24]\n",
      " [-6 -2  4  8]]\n",
      "\n",
      "[0.5  0.25 0.2  0.05]\n",
      "\n",
      "\n",
      "######## MQS ##########\n",
      "\n",
      "[ 3.   4.2  5.6 -2.3]\n",
      "\n",
      "######## Squared Inputs ##########\n",
      "\n",
      "[[   0   16   25  400]\n",
      " [   0   16   64 1024]\n",
      " [   0   64  144  576]\n",
      " [  36    4   16   64]]\n",
      "\n",
      "######## DQS ##########\n",
      "\n",
      "[29.  68.  73.6 25.4]\n",
      "\n",
      "######## DQS - Squared MQS ##########\n",
      "\n",
      "[20.   50.36 42.24 20.11]\n",
      "\n",
      "##################\n",
      "\n",
      "[4.472 7.096 6.499 4.484]\n",
      "\n",
      "##################\n",
      "\n"
     ]
    },
    {
     "data": {
      "image/png": "[encoded data removed]",
      "text/plain": [
       "<Figure size 576x288 with 1 Axes>"
      ]
     },
     "metadata": {
      "needs_background": "light"
     },
     "output_type": "display_data"
    }
   ],
   "source": [
    "construction_of_pareto_set(inps, prob)"
   ]
  },
  {
   "cell_type": "code",
   "execution_count": null,
   "id": "261afc97",
   "metadata": {},
   "outputs": [],
   "source": []
  }
 ],
 "metadata": {
  "kernelspec": {
   "display_name": "Python 3 (ipykernel)",
   "language": "python",
   "name": "python3"
  },
  "language_info": {
   "codemirror_mode": {
    "name": "ipython",
    "version": 3
   },
   "file_extension": ".py",
   "mimetype": "text/x-python",
   "name": "python",
   "nbconvert_exporter": "python",
   "pygments_lexer": "ipython3",
   "version": "3.9.12"
  }
 },
 "nbformat": 4,
 "nbformat_minor": 5
}
