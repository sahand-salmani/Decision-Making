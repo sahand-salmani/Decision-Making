{
 "cells": [
  {
   "cell_type": "code",
   "execution_count": 26,
   "id": "9e916a5c",
   "metadata": {},
   "outputs": [],
   "source": [
    "import numpy as np"
   ]
  },
  {
   "cell_type": "code",
   "execution_count": 27,
   "id": "8b7ff118",
   "metadata": {},
   "outputs": [],
   "source": [
    "def find_priority_vector(inputs):\n",
    "    columns_sum = np.sum(inputs, axis=0)\n",
    "    normalize = np.round(np.divide(inputs, columns_sum), 6)\n",
    "    row_sum = np.sum(normalize, axis=1)\n",
    "    return np.round(row_sum / inputs.shape[0], 3)"
   ]
  },
  {
   "cell_type": "code",
   "execution_count": 28,
   "id": "4524c839",
   "metadata": {},
   "outputs": [],
   "source": [
    "inputs = np.array([\n",
    "    [1,3,5],\n",
    "    [0.33, 1, 0.14],\n",
    "    [0.2, 7, 1]\n",
    "])\n",
    "\n"
   ]
  },
  {
   "cell_type": "code",
   "execution_count": 35,
   "id": "524cc36c",
   "metadata": {},
   "outputs": [
    {
     "name": "stdout",
     "output_type": "stream",
     "text": [
      "Our priority vector is : [0.58 0.11 0.31]\n"
     ]
    }
   ],
   "source": [
    "print(\"Our priority vector is : \" + str(find_priority_vector(inputs)))"
   ]
  },
  {
   "cell_type": "code",
   "execution_count": null,
   "id": "19d114c5",
   "metadata": {},
   "outputs": [],
   "source": []
  },
  {
   "cell_type": "code",
   "execution_count": 30,
   "id": "a6413b38",
   "metadata": {},
   "outputs": [
    {
     "data": {
      "text/plain": [
       "1.0"
      ]
     },
     "execution_count": 30,
     "metadata": {},
     "output_type": "execute_result"
    }
   ],
   "source": [
    "np.sum(find_priority_vector(inputs))"
   ]
  },
  {
   "cell_type": "code",
   "execution_count": null,
   "id": "e3ed06f7",
   "metadata": {},
   "outputs": [],
   "source": []
  }
 ],
 "metadata": {
  "kernelspec": {
   "display_name": "Python 3 (ipykernel)",
   "language": "python",
   "name": "python3"
  },
  "language_info": {
   "codemirror_mode": {
    "name": "ipython",
    "version": 3
   },
   "file_extension": ".py",
   "mimetype": "text/x-python",
   "name": "python",
   "nbconvert_exporter": "python",
   "pygments_lexer": "ipython3",
   "version": "3.9.12"
  }
 },
 "nbformat": 4,
 "nbformat_minor": 5
}
