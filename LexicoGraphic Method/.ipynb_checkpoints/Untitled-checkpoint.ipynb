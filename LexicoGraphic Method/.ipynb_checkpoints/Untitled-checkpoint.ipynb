{
 "cells": [
  {
   "cell_type": "code",
   "execution_count": 25,
   "id": "6b2810c6",
   "metadata": {},
   "outputs": [],
   "source": [
    "import numpy as np"
   ]
  },
  {
   "cell_type": "code",
   "execution_count": 26,
   "id": "80dd1333",
   "metadata": {},
   "outputs": [],
   "source": [
    "def importance_check(imp):\n",
    "    return imp[0] > np.sum(imp[1:])"
   ]
  },
  {
   "cell_type": "code",
   "execution_count": 28,
   "id": "5dd92f91",
   "metadata": {},
   "outputs": [],
   "source": [
    "def requirements_maker(*requirements):\n",
    "    return np.array(requirements)"
   ]
  },
  {
   "cell_type": "code",
   "execution_count": 29,
   "id": "d84c0f76",
   "metadata": {},
   "outputs": [],
   "source": [
    "inputs = np.array([\n",
    "    [1,8,4],\n",
    "    [4,2,5],\n",
    "    [6,5,3]\n",
    "])\n",
    "importances = [0.5, 0.2, 0.3]\n",
    "requirements_k2 = 6\n",
    "requirements_k3 = 5"
   ]
  },
  {
   "cell_type": "code",
   "execution_count": 36,
   "id": "7430e732",
   "metadata": {},
   "outputs": [
    {
     "name": "stdout",
     "output_type": "stream",
     "text": [
      "0\n",
      "1\n",
      "2\n",
      "0\n",
      "1\n",
      "2\n"
     ]
    }
   ],
   "source": [
    "for i in range(requirements_maker(requirements_k2, requirements_k3).shape[0]):\n",
    "    for i in range(inputs[i+1].shape[0]):\n",
    "        print(i)"
   ]
  },
  {
   "cell_type": "code",
   "execution_count": null,
   "id": "c0bd09dc",
   "metadata": {},
   "outputs": [],
   "source": []
  },
  {
   "cell_type": "code",
   "execution_count": null,
   "id": "d8e6aafd",
   "metadata": {},
   "outputs": [],
   "source": []
  }
 ],
 "metadata": {
  "kernelspec": {
   "display_name": "Python 3 (ipykernel)",
   "language": "python",
   "name": "python3"
  },
  "language_info": {
   "codemirror_mode": {
    "name": "ipython",
    "version": 3
   },
   "file_extension": ".py",
   "mimetype": "text/x-python",
   "name": "python",
   "nbconvert_exporter": "python",
   "pygments_lexer": "ipython3",
   "version": "3.9.12"
  }
 },
 "nbformat": 4,
 "nbformat_minor": 5
}
