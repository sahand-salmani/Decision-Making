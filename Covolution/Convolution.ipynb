{
 "cells": [
  {
   "cell_type": "code",
   "execution_count": 58,
   "id": "a7530315",
   "metadata": {},
   "outputs": [],
   "source": [
    "import numpy as np\n",
    "from sklearn import preprocessing"
   ]
  },
  {
   "cell_type": "markdown",
   "id": "91e4af22",
   "metadata": {},
   "source": [
    "## Convolution"
   ]
  },
  {
   "cell_type": "code",
   "execution_count": 59,
   "id": "b256bb67",
   "metadata": {},
   "outputs": [],
   "source": [
    "def normalize(arr,precision = 2 ,*minimization):\n",
    "    scalar = preprocessing.MinMaxScaler()\n",
    "    result = np.round(scalar.fit_transform(arr), precision)\n",
    "    for maxColumn in minimization:\n",
    "        result[:, maxColumn - 1] = 1 - result[:, maxColumn - 1]\n",
    "    return result"
   ]
  },
  {
   "cell_type": "code",
   "execution_count": 60,
   "id": "194aab99",
   "metadata": {},
   "outputs": [],
   "source": [
    "inputs = np.array([\n",
    "    [50, 70, 50, 90], #t1\n",
    "    [60, 60, 80, 70], #t2\n",
    "    [70, 90, 60, 60], #t3\n",
    "    [80, 100, 90, 100] #t4\n",
    "])\n",
    "Cs = np.array([0.15,0.3, 0.15, 0.4 ])"
   ]
  },
  {
   "cell_type": "markdown",
   "id": "6cd5f0e0",
   "metadata": {},
   "source": [
    "## Additive Convolution"
   ]
  },
  {
   "cell_type": "code",
   "execution_count": 61,
   "id": "407739a0",
   "metadata": {},
   "outputs": [],
   "source": [
    "def convolution_additive(inputs, ws, *minimization):\n",
    "    print('############ Additive Convolution ############\\n')\n",
    "    print(inputs)\n",
    "    print('\\n############ Normalized Inputs ############\\n')\n",
    "    normalized_inputs = normalize(inputs, *minimization)\n",
    "    print(normalized_inputs)\n",
    "    print('\\n############ Sum of weights multiply by rows ############\\n')\n",
    "    ws_mult_by_rows = normalized_inputs @ Cs\n",
    "    print(ws_mult_by_rows)\n",
    "    print('\\n############ Result ############\\n')\n",
    "    result = np.argmax(ws_mult_by_rows)\n",
    "    print(f'Our best alternative is {result + 1} which is {inputs[result]}')\n",
    "    "
   ]
  },
  {
   "cell_type": "code",
   "execution_count": 68,
   "id": "8db55d0c",
   "metadata": {},
   "outputs": [
    {
     "name": "stdout",
     "output_type": "stream",
     "text": [
      "############ Additive Convolution ############\n",
      "\n",
      "[[ 50  70  50  90]\n",
      " [ 60  60  80  70]\n",
      " [ 70  90  60  60]\n",
      " [ 80 100  90 100]]\n",
      "\n",
      "############ Normalized Inputs ############\n",
      "\n",
      "[[0.   0.25 0.   0.75]\n",
      " [0.33 0.   0.75 0.25]\n",
      " [0.67 0.75 0.25 0.  ]\n",
      " [1.   1.   1.   1.  ]]\n",
      "\n",
      "############ Sum of weights multiply by rows ############\n",
      "\n",
      "[0.375 0.262 0.363 1.   ]\n",
      "\n",
      "############ Result ############\n",
      "\n",
      "Our best alternative is 4 which is [ 80 100  90 100]\n"
     ]
    }
   ],
   "source": [
    "convolution_additive(inputs, Cs, 2)"
   ]
  },
  {
   "cell_type": "markdown",
   "id": "4031bef8",
   "metadata": {},
   "source": [
    "## Multiplitive Convolution"
   ]
  },
  {
   "cell_type": "code",
   "execution_count": 56,
   "id": "1228cd24",
   "metadata": {},
   "outputs": [],
   "source": [
    "def convolution_multiplitive(inputs, ws, *minimization):\n",
    "    print('############ Additive Convolution ############\\n')\n",
    "    print(inputs)\n",
    "    print('\\n############ Normalized Inputs ############\\n')\n",
    "    normalized_inputs = normalize(inputs, *minimization)\n",
    "    print(normalized_inputs)\n",
    "    print('\\n############ Product of T to the power of W ############\\n')\n",
    "    ts_to_the_power_ws = np.power(normalized_inputs, Cs)\n",
    "    ts_product = np.product(ts_to_the_power_ws, axis=1)\n",
    "    print(ts_product)\n",
    "    print('\\n############ Result ############\\n')\n",
    "    result = np.argmax(ws_mult_by_rows)\n",
    "    print(f'Our best alternative is {result + 1} which is {inputs[result]}')"
   ]
  },
  {
   "cell_type": "code",
   "execution_count": 57,
   "id": "2fe8e16d",
   "metadata": {},
   "outputs": [
    {
     "name": "stdout",
     "output_type": "stream",
     "text": [
      "############ Additive Convolution ############\n",
      "\n",
      "[[ 50  70  50  90]\n",
      " [ 60  60  80  70]\n",
      " [ 70  90  60  60]\n",
      " [ 80 100  90 100]]\n",
      "\n",
      "############ Normalized Inputs ############\n",
      "\n",
      "[[0.   0.25 0.   0.75]\n",
      " [0.33 0.   0.75 0.25]\n",
      " [0.67 0.75 0.25 0.  ]\n",
      " [1.   1.   1.   1.  ]]\n",
      "\n",
      "############ Product of T to the power of W ############\n",
      "\n",
      "[0. 0. 0. 1.]\n",
      "\n",
      "############ Result ############\n",
      "\n",
      "Our best alternative is 4 which is [ 80 100  90 100]\n"
     ]
    }
   ],
   "source": [
    "convolution_multiplitive(inputs, Cs, 2)"
   ]
  }
 ],
 "metadata": {
  "kernelspec": {
   "display_name": "Python 3 (ipykernel)",
   "language": "python",
   "name": "python3"
  },
  "language_info": {
   "codemirror_mode": {
    "name": "ipython",
    "version": 3
   },
   "file_extension": ".py",
   "mimetype": "text/x-python",
   "name": "python",
   "nbconvert_exporter": "python",
   "pygments_lexer": "ipython3",
   "version": "3.9.12"
  }
 },
 "nbformat": 4,
 "nbformat_minor": 5
}
