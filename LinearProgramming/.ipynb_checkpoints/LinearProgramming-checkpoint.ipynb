{
 "cells": [
  {
   "cell_type": "code",
   "execution_count": 1,
   "id": "edfe16d8",
   "metadata": {},
   "outputs": [],
   "source": [
    "from scipy.optimize import minimize"
   ]
  },
  {
   "cell_type": "code",
   "execution_count": 2,
   "id": "2ad9597c",
   "metadata": {},
   "outputs": [],
   "source": [
    "f = lambda x: (x[0] + x[1] + x[2])\n",
    "constrains = ({'type':'ineq', 'fun': lambda x: 50 * x[0] + 25 * x[1] + 10 * x[2] - 1},\n",
    "              {'type':'ineq', 'fun': lambda x: 15 * x[0] + 40 * x[1] + 30 * x[2] - 1},\n",
    "              {'type':'ineq', 'fun': lambda x: 20 * x[0] + 30 * x[1] + 60 * x[2] - 1},\n",
    "              {'type':'ineq', 'fun': lambda x: x[0] + x[1] + x[2]})"
   ]
  },
  {
   "cell_type": "code",
   "execution_count": 3,
   "id": "2bd5b4ec",
   "metadata": {},
   "outputs": [],
   "source": [
    "res = minimize(f, (1,1,1), constraints=constrains)"
   ]
  },
  {
   "cell_type": "code",
   "execution_count": 4,
   "id": "319737f0",
   "metadata": {},
   "outputs": [
    {
     "data": {
      "text/plain": [
       "     fun: 0.03242187499985581\n",
       "     jac: array([1., 1., 1.])\n",
       " message: 'Optimization terminated successfully'\n",
       "    nfev: 12\n",
       "     nit: 3\n",
       "    njev: 3\n",
       "  status: 0\n",
       " success: True\n",
       "       x: array([0.01015625, 0.01796875, 0.00429688])"
      ]
     },
     "execution_count": 4,
     "metadata": {},
     "output_type": "execute_result"
    }
   ],
   "source": [
    "res"
   ]
  }
 ],
 "metadata": {
  "kernelspec": {
   "display_name": "Python 3 (ipykernel)",
   "language": "python",
   "name": "python3"
  },
  "language_info": {
   "codemirror_mode": {
    "name": "ipython",
    "version": 3
   },
   "file_extension": ".py",
   "mimetype": "text/x-python",
   "name": "python",
   "nbconvert_exporter": "python",
   "pygments_lexer": "ipython3",
   "version": "3.9.12"
  }
 },
 "nbformat": 4,
 "nbformat_minor": 5
}
